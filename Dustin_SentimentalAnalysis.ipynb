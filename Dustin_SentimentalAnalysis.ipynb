{
 "cells": [
  {
   "cell_type": "code",
   "execution_count": 1,
   "id": "28a2e4ad",
   "metadata": {},
   "outputs": [],
   "source": [
    "import requests\n",
    "from bs4 import BeautifulSoup as bs\n",
    "import pandas as pd\n",
    "from textblob import TextBlob"
   ]
  },
  {
   "cell_type": "code",
   "execution_count": 2,
   "id": "41e2e70f",
   "metadata": {},
   "outputs": [],
   "source": [
    "mySession = requests.session()\n",
    "\n",
    "response = mySession.get(\"https://www.rottentomatoes.com/m/minnal_murali/reviews\")\n",
    "soup = bs(response.content, 'html.parser')\n",
    "    \n",
    "# we find the table containing the reviews\n",
    "articleFeed = soup.findAll(\"div\", {\"class\": \"the_review\"})\n"
   ]
  },
  {
   "cell_type": "code",
   "execution_count": 3,
   "id": "4defa543",
   "metadata": {},
   "outputs": [],
   "source": [
    "textAll = [review.get_text() for review in articleFeed]\n",
    "articleText = [x.strip() for x in textAll] #remove /r/n\n",
    "zens = 0\n",
    "mylist=[]\n",
    "for reviews in articleText:    \n",
    "    ind = (articleText[zens]) # for each reviews add one utill reaches reviews in article text \n",
    "    zens = zens+1                         \n",
    "    strSen = TextBlob(ind)                 #turing sentence into a textblob format\n",
    "    mylist.append(round(strSen.sentiment.polarity,2)) #adding it into a list\n",
    "\n",
    "#doing it this way because textblob takes anaylysis for each sentence, I want for each review"
   ]
  },
  {
   "cell_type": "code",
   "execution_count": 4,
   "id": "bec26b79",
   "metadata": {},
   "outputs": [
    {
     "name": "stdout",
     "output_type": "stream",
     "text": [
      "[0.35, 0.0, 0.5, 0.41, 0.14, -0.12, 0.1]\n"
     ]
    }
   ],
   "source": [
    "print(mylist)"
   ]
  },
  {
   "cell_type": "code",
   "execution_count": 5,
   "id": "141c33fc",
   "metadata": {},
   "outputs": [],
   "source": [
    "value = []\n",
    "for i in (mylist):\n",
    "    if (i > 0):   \n",
    "        value.append(\"Positive\")\n",
    "    elif (i < 0):\n",
    "        value.append(\"Negative\")\n",
    "    else:\n",
    "        value.append(\"neutral\")\n",
    "    "
   ]
  },
  {
   "cell_type": "code",
   "execution_count": 6,
   "id": "13176f58",
   "metadata": {},
   "outputs": [
    {
     "name": "stdout",
     "output_type": "stream",
     "text": [
      "['Positive', 'neutral', 'Positive', 'Positive', 'Positive', 'Negative', 'Positive']\n"
     ]
    }
   ],
   "source": [
    "print(value)"
   ]
  },
  {
   "cell_type": "code",
   "execution_count": 8,
   "id": "12d25c05",
   "metadata": {},
   "outputs": [
    {
     "data": {
      "text/html": [
       "<div>\n",
       "<style scoped>\n",
       "    .dataframe tbody tr th:only-of-type {\n",
       "        vertical-align: middle;\n",
       "    }\n",
       "\n",
       "    .dataframe tbody tr th {\n",
       "        vertical-align: top;\n",
       "    }\n",
       "\n",
       "    .dataframe thead th {\n",
       "        text-align: right;\n",
       "    }\n",
       "</style>\n",
       "<table border=\"1\" class=\"dataframe\">\n",
       "  <thead>\n",
       "    <tr style=\"text-align: right;\">\n",
       "      <th></th>\n",
       "      <th>Reviewer</th>\n",
       "      <th>Text</th>\n",
       "      <th>Polarity</th>\n",
       "      <th>Subjectivity</th>\n",
       "    </tr>\n",
       "  </thead>\n",
       "  <tbody>\n",
       "    <tr>\n",
       "      <th>0</th>\n",
       "      <td>Brian Costello</td>\n",
       "      <td>This is an epic superhero movie that deftly mi...</td>\n",
       "      <td>0.35</td>\n",
       "      <td>Positive</td>\n",
       "    </tr>\n",
       "    <tr>\n",
       "      <th>1</th>\n",
       "      <td>Shah Shahid</td>\n",
       "      <td>Minnal Murali adds to the discourse of superhe...</td>\n",
       "      <td>0.00</td>\n",
       "      <td>neutral</td>\n",
       "    </tr>\n",
       "    <tr>\n",
       "      <th>2</th>\n",
       "      <td>Rohan Naahar</td>\n",
       "      <td>Not all heroes wear capes, they say. But they ...</td>\n",
       "      <td>0.50</td>\n",
       "      <td>Positive</td>\n",
       "    </tr>\n",
       "    <tr>\n",
       "      <th>3</th>\n",
       "      <td>Akhil Arora</td>\n",
       "      <td>In the hands of a more astute director and wit...</td>\n",
       "      <td>0.41</td>\n",
       "      <td>Positive</td>\n",
       "    </tr>\n",
       "    <tr>\n",
       "      <th>4</th>\n",
       "      <td>Anna M.M. Vetticad</td>\n",
       "      <td>Minnal Murali film may be a tribute to the Hol...</td>\n",
       "      <td>0.14</td>\n",
       "      <td>Positive</td>\n",
       "    </tr>\n",
       "    <tr>\n",
       "      <th>5</th>\n",
       "      <td>Saibal Chatterjee</td>\n",
       "      <td>Jaison/Minnal Murali is played with a blend of...</td>\n",
       "      <td>-0.12</td>\n",
       "      <td>Negative</td>\n",
       "    </tr>\n",
       "    <tr>\n",
       "      <th>6</th>\n",
       "      <td>Shubhra Gupta</td>\n",
       "      <td>While the film is aware of its superhero-ness,...</td>\n",
       "      <td>0.10</td>\n",
       "      <td>Positive</td>\n",
       "    </tr>\n",
       "  </tbody>\n",
       "</table>\n",
       "</div>"
      ],
      "text/plain": [
       "             Reviewer                                               Text  \\\n",
       "0      Brian Costello  This is an epic superhero movie that deftly mi...   \n",
       "1         Shah Shahid  Minnal Murali adds to the discourse of superhe...   \n",
       "2        Rohan Naahar  Not all heroes wear capes, they say. But they ...   \n",
       "3         Akhil Arora  In the hands of a more astute director and wit...   \n",
       "4  Anna M.M. Vetticad  Minnal Murali film may be a tribute to the Hol...   \n",
       "5   Saibal Chatterjee  Jaison/Minnal Murali is played with a blend of...   \n",
       "6       Shubhra Gupta  While the film is aware of its superhero-ness,...   \n",
       "\n",
       "   Polarity Subjectivity  \n",
       "0      0.35     Positive  \n",
       "1      0.00      neutral  \n",
       "2      0.50     Positive  \n",
       "3      0.41     Positive  \n",
       "4      0.14     Positive  \n",
       "5     -0.12     Negative  \n",
       "6      0.10     Positive  "
      ]
     },
     "execution_count": 8,
     "metadata": {},
     "output_type": "execute_result"
    }
   ],
   "source": [
    "reviewTable = soup.find(\"div\", {\"class\": \"review_table\"})\n",
    "reviewers = [r.get_text() for r in reviewTable.select(\".review_table_row .critic_name .articleLink\")]\n",
    "reviewText = [t.get_text() for t in reviewTable.select(\".review_table_row .the_review\")]\n",
    "reviewText = [x.strip() for x in reviewText]\n",
    "\n",
    "reviews = {'Reviewer':reviewers, 'Text':reviewText, 'Polarity':mylist, 'Subjectivity':value}\n",
    "\n",
    "reviews_df = pd.DataFrame(reviews) \n",
    "\n",
    "reviews_df"
   ]
  },
  {
   "cell_type": "markdown",
   "id": "9cb2c84e",
   "metadata": {},
   "source": [
    "                                                  References\n",
    "\n",
    "Taboada, M. (2022, February 17). sda-250-sfu/Lab4_tips. GitHub. https://github.com/sda-250-\n",
    "\n",
    "    sfu/Lab4_tips/blob/main/Lab4_solutions.ipynb\n",
    "\n",
    "The Greatest Showman - Movie Reviews. (n.d.). Www.rottentomatoes.com. Retrieved March 18, 2022, from \n",
    "    \n",
    "    https://www.rottentomatoes.com/m/the_greatest_showman_2017/reviews\n",
    "\n",
    "Tutorial: Quickstart — TextBlob 0.16.0 documentation. (n.d.). Textblob.readthedocs.io. \n",
    "    \n",
    "    https://textblob.readthedocs.io/en/dev/quickstart.html"
   ]
  },
  {
   "cell_type": "code",
   "execution_count": null,
   "id": "a36b4fc1",
   "metadata": {},
   "outputs": [],
   "source": []
  }
 ],
 "metadata": {
  "kernelspec": {
   "display_name": "Python 3 (ipykernel)",
   "language": "python",
   "name": "python3"
  },
  "language_info": {
   "codemirror_mode": {
    "name": "ipython",
    "version": 3
   },
   "file_extension": ".py",
   "mimetype": "text/x-python",
   "name": "python",
   "nbconvert_exporter": "python",
   "pygments_lexer": "ipython3",
   "version": "3.9.7"
  }
 },
 "nbformat": 4,
 "nbformat_minor": 5
}
